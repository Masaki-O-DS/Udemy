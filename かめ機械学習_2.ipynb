{
 "cells": [
  {
   "cell_type": "markdown",
   "source": [
    "# hold-out でデータを分割"
   ],
   "metadata": {
    "collapsed": false
   }
  },
  {
   "cell_type": "code",
   "execution_count": 80,
   "outputs": [],
   "source": [
    "import numpy as np\n",
    "import pandas as pd\n",
    "from sklearn.model_selection import train_test_split\n",
    "from sklearn.metrics import mean_squared_error\n",
    "import seaborn as sns\n",
    "df = sns.load_dataset('tips')"
   ],
   "metadata": {
    "collapsed": false,
    "ExecuteTime": {
     "end_time": "2023-08-24T07:17:23.838105Z",
     "start_time": "2023-08-24T07:17:23.815487Z"
    }
   }
  },
  {
   "cell_type": "code",
   "execution_count": 81,
   "outputs": [],
   "source": [
    "y_col = 'tip'\n",
    "X = df.drop(columns=y_col)\n",
    "# 標準化のために数値カラムのリストを取得　\n",
    "numeric_cols = X.select_dtypes(include=np.number).columns.to_list()\n",
    "X = pd.get_dummies(X, drop_first=True)\n",
    "y = df[y_col]\n",
    "X_train, X_test, y_train, y_test = train_test_split(X, y, test_size=0.3, random_state=0)"
   ],
   "metadata": {
    "collapsed": false,
    "ExecuteTime": {
     "end_time": "2023-08-24T07:17:23.981025Z",
     "start_time": "2023-08-24T07:17:23.959751Z"
    }
   }
  },
  {
   "cell_type": "code",
   "execution_count": 82,
   "outputs": [],
   "source": [
    "# 標準化は必ずデータをsplitしてから行うこと。なぜなら、X_trainだけを標準化したいから\n",
    "from sklearn.preprocessing import StandardScaler\n",
    "scaler = StandardScaler()\n",
    "#標準化するのは数値のカラムのみ\n",
    "X_train_scaled = X_train.copy()\n",
    "#数値カラムのみ標準化\n",
    "scaler.fit(X_train[numeric_cols])\n",
    "X_train_scaled[numeric_cols] = scaler.transform(X_train[numeric_cols])\n",
    "X_test_scaled = X_test.copy()\n",
    "#すでに、trainデータでscalerを学習させているので再度、X_testで学習させる意味はないし、してはいけない\n",
    "X_test_scaled[numeric_cols] = scaler.transform(X_test[numeric_cols])"
   ],
   "metadata": {
    "collapsed": false,
    "ExecuteTime": {
     "end_time": "2023-08-24T07:17:24.122458Z",
     "start_time": "2023-08-24T07:17:24.111292Z"
    }
   }
  },
  {
   "cell_type": "code",
   "execution_count": 83,
   "outputs": [],
   "source": [
    "#線形回帰モデル学習\n",
    "from sklearn.linear_model import LinearRegression\n",
    "model = LinearRegression()\n",
    "model.fit(X_train_scaled, y_train)\n",
    "y_pred = model.predict(X_test_scaled)"
   ],
   "metadata": {
    "collapsed": false,
    "ExecuteTime": {
     "end_time": "2023-08-24T07:17:24.265610Z",
     "start_time": "2023-08-24T07:17:24.251692Z"
    }
   }
  },
  {
   "cell_type": "code",
   "execution_count": 84,
   "outputs": [
    {
     "data": {
      "text/plain": "0.955080898861715"
     },
     "execution_count": 84,
     "metadata": {},
     "output_type": "execute_result"
    }
   ],
   "source": [
    "# 精度確認(MSE)  モデルの精度\n",
    "from sklearn.metrics import mean_squared_error\n",
    "mean_squared_error(y_test,y_pred)"
   ],
   "metadata": {
    "collapsed": false,
    "ExecuteTime": {
     "end_time": "2023-08-24T07:17:24.399492Z",
     "start_time": "2023-08-24T07:17:24.395102Z"
    }
   }
  },
  {
   "cell_type": "code",
   "execution_count": 85,
   "outputs": [],
   "source": [
    "# 標準化されていないデータで線形回帰モデル学習\n",
    "model_1 = LinearRegression()\n",
    "model_1.fit(X_train, y_train)\n",
    "y_pred_1 = model_1.predict(X_test)"
   ],
   "metadata": {
    "collapsed": false,
    "ExecuteTime": {
     "end_time": "2023-08-24T07:17:24.547746Z",
     "start_time": "2023-08-24T07:17:24.544421Z"
    }
   }
  },
  {
   "cell_type": "code",
   "execution_count": 86,
   "outputs": [
    {
     "data": {
      "text/plain": "0.9550808988617131"
     },
     "execution_count": 86,
     "metadata": {},
     "output_type": "execute_result"
    }
   ],
   "source": [
    "#精度確認\n",
    "mean_squared_error(y_test, y_pred_1)"
   ],
   "metadata": {
    "collapsed": false,
    "ExecuteTime": {
     "end_time": "2023-08-24T07:17:24.686334Z",
     "start_time": "2023-08-24T07:17:24.682275Z"
    }
   }
  },
  {
   "cell_type": "markdown",
   "source": [
    "# LOOCVで線形回帰を学習・評価する"
   ],
   "metadata": {
    "collapsed": false
   }
  },
  {
   "cell_type": "markdown",
   "source": [
    "## LOO Leave One Out"
   ],
   "metadata": {
    "collapsed": false
   }
  },
  {
   "cell_type": "code",
   "execution_count": 87,
   "outputs": [],
   "source": [
    "#データ準備\n",
    "X = df['total_bill'].values.reshape(-1, 1)\n",
    "y = df['tip']\n",
    "from sklearn.model_selection import LeaveOneOut\n",
    "loo = LeaveOneOut()"
   ],
   "metadata": {
    "collapsed": false,
    "ExecuteTime": {
     "end_time": "2023-08-24T07:17:25.436035Z",
     "start_time": "2023-08-24T07:17:25.432981Z"
    }
   }
  },
  {
   "cell_type": "code",
   "execution_count": 88,
   "outputs": [],
   "source": [
    "#cross validation行う\n",
    "model = LinearRegression()\n",
    "mse_list = []\n",
    "for train_index, test_index in loo.split(X):\n",
    "    X_train, X_test = X[train_index], X[test_index]\n",
    "    y_train, y_test = y[train_index], y[test_index]\n",
    "\n",
    "    #モデル学習\n",
    "    model.fit(X_train, y_train)\n",
    "    #テストでーたの予測\n",
    "    y_pred = model.predict(X_test)\n",
    "    #MSE\n",
    "    mse = mean_squared_error(y_test, y_pred)\n",
    "    mse_list.append(mse)"
   ],
   "metadata": {
    "collapsed": false,
    "ExecuteTime": {
     "end_time": "2023-08-24T07:17:25.793183Z",
     "start_time": "2023-08-24T07:17:25.644182Z"
    }
   }
  },
  {
   "cell_type": "code",
   "execution_count": 89,
   "outputs": [
    {
     "name": "stdout",
     "output_type": "stream",
     "text": [
      "1.0675673489857438\n"
     ]
    }
   ],
   "source": [
    "print(np.mean(mse_list))"
   ],
   "metadata": {
    "collapsed": false,
    "ExecuteTime": {
     "end_time": "2023-08-24T07:17:25.814386Z",
     "start_time": "2023-08-24T07:17:25.810954Z"
    }
   }
  },
  {
   "cell_type": "code",
   "execution_count": 90,
   "outputs": [
    {
     "name": "stdout",
     "output_type": "stream",
     "text": [
      "1.0675673489857438\n"
     ]
    }
   ],
   "source": [
    "#上のやり方では、コードを書くのが手間なので一発で処理する方法がある\n",
    "from sklearn.model_selection import cross_val_score\n",
    "cv = LeaveOneOut()\n",
    "scores = cross_val_score(model, X, y, cv=cv, scoring='neg_mean_squared_error')\n",
    "print(-np.mean(scores))"
   ],
   "metadata": {
    "collapsed": false,
    "ExecuteTime": {
     "end_time": "2023-08-24T07:17:26.273638Z",
     "start_time": "2023-08-24T07:17:26.159163Z"
    }
   }
  },
  {
   "cell_type": "markdown",
   "source": [
    "# 一般的に使用される評価方法k-foldCV"
   ],
   "metadata": {
    "collapsed": false
   }
  },
  {
   "cell_type": "code",
   "execution_count": 91,
   "outputs": [],
   "source": [
    "from sklearn.model_selection import KFold\n",
    "k = 5\n",
    "cv = KFold(n_splits=k, shuffle=True, random_state=0)\n",
    "mse_list = []\n",
    "for train_index, test_index in cv.split(X):\n",
    "    X_train, X_test = X[train_index], X[test_index]\n",
    "    y_train, y_test = y[train_index], y[test_index]\n",
    "    #標準化するならこの段階でやること\n",
    "    #モデル学習\n",
    "    model.fit(X_train, y_train)\n",
    "    y_pred = model.predict(X_test)\n",
    "    #MSE\n",
    "    mse = mean_squared_error(y_test, y_pred)\n",
    "    mse_list.append(mse)"
   ],
   "metadata": {
    "collapsed": false,
    "ExecuteTime": {
     "end_time": "2023-08-24T07:17:26.895912Z",
     "start_time": "2023-08-24T07:17:26.889762Z"
    }
   }
  },
  {
   "cell_type": "code",
   "execution_count": 92,
   "outputs": [
    {
     "name": "stdout",
     "output_type": "stream",
     "text": [
      "1.0802110883943916\n"
     ]
    }
   ],
   "source": [
    "print(np.mean(mse_list))"
   ],
   "metadata": {
    "collapsed": false,
    "ExecuteTime": {
     "end_time": "2023-08-24T07:17:27.497131Z",
     "start_time": "2023-08-24T07:17:27.486937Z"
    }
   }
  },
  {
   "cell_type": "code",
   "execution_count": 93,
   "outputs": [],
   "source": [
    "#一発で求める方法\n",
    "scores = cross_val_score(model, X, y, cv=cv, scoring='neg_mean_squared_error', n_jobs=-1)"
   ],
   "metadata": {
    "collapsed": false,
    "ExecuteTime": {
     "end_time": "2023-08-24T07:17:29.017018Z",
     "start_time": "2023-08-24T07:17:27.746611Z"
    }
   }
  },
  {
   "cell_type": "markdown",
   "source": [
    "# Repeated k-Fold CV k-foldCVを複数回ぶん回す"
   ],
   "metadata": {
    "collapsed": false
   }
  },
  {
   "cell_type": "code",
   "execution_count": 94,
   "outputs": [
    {
     "data": {
      "text/plain": "array([[16.99],\n       [10.34],\n       [21.01],\n       [23.68],\n       [24.59],\n       [25.29],\n       [ 8.77],\n       [26.88],\n       [15.04],\n       [14.78],\n       [10.27],\n       [35.26],\n       [15.42],\n       [18.43],\n       [14.83],\n       [21.58],\n       [10.33],\n       [16.29],\n       [16.97],\n       [20.65],\n       [17.92],\n       [20.29],\n       [15.77],\n       [39.42],\n       [19.82],\n       [17.81],\n       [13.37],\n       [12.69],\n       [21.7 ],\n       [19.65],\n       [ 9.55],\n       [18.35],\n       [15.06],\n       [20.69],\n       [17.78],\n       [24.06],\n       [16.31],\n       [16.93],\n       [18.69],\n       [31.27],\n       [16.04],\n       [17.46],\n       [13.94],\n       [ 9.68],\n       [30.4 ],\n       [18.29],\n       [22.23],\n       [32.4 ],\n       [28.55],\n       [18.04],\n       [12.54],\n       [10.29],\n       [34.81],\n       [ 9.94],\n       [25.56],\n       [19.49],\n       [38.01],\n       [26.41],\n       [11.24],\n       [48.27],\n       [20.29],\n       [13.81],\n       [11.02],\n       [18.29],\n       [17.59],\n       [20.08],\n       [16.45],\n       [ 3.07],\n       [20.23],\n       [15.01],\n       [12.02],\n       [17.07],\n       [26.86],\n       [25.28],\n       [14.73],\n       [10.51],\n       [17.92],\n       [27.2 ],\n       [22.76],\n       [17.29],\n       [19.44],\n       [16.66],\n       [10.07],\n       [32.68],\n       [15.98],\n       [34.83],\n       [13.03],\n       [18.28],\n       [24.71],\n       [21.16],\n       [28.97],\n       [22.49],\n       [ 5.75],\n       [16.32],\n       [22.75],\n       [40.17],\n       [27.28],\n       [12.03],\n       [21.01],\n       [12.46],\n       [11.35],\n       [15.38],\n       [44.3 ],\n       [22.42],\n       [20.92],\n       [15.36],\n       [20.49],\n       [25.21],\n       [18.24],\n       [14.31],\n       [14.  ],\n       [ 7.25],\n       [38.07],\n       [23.95],\n       [25.71],\n       [17.31],\n       [29.93],\n       [10.65],\n       [12.43],\n       [24.08],\n       [11.69],\n       [13.42],\n       [14.26],\n       [15.95],\n       [12.48],\n       [29.8 ],\n       [ 8.52],\n       [14.52],\n       [11.38],\n       [22.82],\n       [19.08],\n       [20.27],\n       [11.17],\n       [12.26],\n       [18.26],\n       [ 8.51],\n       [10.33],\n       [14.15],\n       [16.  ],\n       [13.16],\n       [17.47],\n       [34.3 ],\n       [41.19],\n       [27.05],\n       [16.43],\n       [ 8.35],\n       [18.64],\n       [11.87],\n       [ 9.78],\n       [ 7.51],\n       [14.07],\n       [13.13],\n       [17.26],\n       [24.55],\n       [19.77],\n       [29.85],\n       [48.17],\n       [25.  ],\n       [13.39],\n       [16.49],\n       [21.5 ],\n       [12.66],\n       [16.21],\n       [13.81],\n       [17.51],\n       [24.52],\n       [20.76],\n       [31.71],\n       [10.59],\n       [10.63],\n       [50.81],\n       [15.81],\n       [ 7.25],\n       [31.85],\n       [16.82],\n       [32.9 ],\n       [17.89],\n       [14.48],\n       [ 9.6 ],\n       [34.63],\n       [34.65],\n       [23.33],\n       [45.35],\n       [23.17],\n       [40.55],\n       [20.69],\n       [20.9 ],\n       [30.46],\n       [18.15],\n       [23.1 ],\n       [15.69],\n       [19.81],\n       [28.44],\n       [15.48],\n       [16.58],\n       [ 7.56],\n       [10.34],\n       [43.11],\n       [13.  ],\n       [13.51],\n       [18.71],\n       [12.74],\n       [13.  ],\n       [16.4 ],\n       [20.53],\n       [16.47],\n       [26.59],\n       [38.73],\n       [24.27],\n       [12.76],\n       [30.06],\n       [25.89],\n       [48.33],\n       [13.27],\n       [28.17],\n       [12.9 ],\n       [28.15],\n       [11.59],\n       [ 7.74],\n       [30.14],\n       [12.16],\n       [13.42],\n       [ 8.58],\n       [15.98],\n       [13.42],\n       [16.27],\n       [10.09],\n       [20.45],\n       [13.28],\n       [22.12],\n       [24.01],\n       [15.69],\n       [11.61],\n       [10.77],\n       [15.53],\n       [10.07],\n       [12.6 ],\n       [32.83],\n       [35.83],\n       [29.03],\n       [27.18],\n       [22.67],\n       [17.82],\n       [18.78]])"
     },
     "execution_count": 94,
     "metadata": {},
     "output_type": "execute_result"
    }
   ],
   "source": [
    "X"
   ],
   "metadata": {
    "collapsed": false,
    "ExecuteTime": {
     "end_time": "2023-08-24T07:17:29.639523Z",
     "start_time": "2023-08-24T07:17:29.633089Z"
    }
   }
  },
  {
   "cell_type": "code",
   "execution_count": 95,
   "outputs": [],
   "source": [
    "from sklearn.model_selection import RepeatedKFold\n",
    "k = 5\n",
    "n_repeats = 3\n",
    "cv = RepeatedKFold(n_splits=k,n_repeats=n_repeats, random_state=0)\n",
    "mse_list = []\n",
    "for train_index, test_index in cv.split(X):\n",
    "    X_train, X_test = X[train_index], X[test_index]\n",
    "    y_train, y_test = y[train_index], y[test_index]\n",
    "    #標準化するならこの段階でやること\n",
    "    #モデル学習\n",
    "    model.fit(X_train, y_train)\n",
    "    y_pred = model.predict(X_test)\n",
    "    #MSE\n",
    "    mse = mean_squared_error(y_test, y_pred)\n",
    "    mse_list.append(mse)"
   ],
   "metadata": {
    "collapsed": false,
    "ExecuteTime": {
     "end_time": "2023-08-24T07:17:32.689523Z",
     "start_time": "2023-08-24T07:17:32.663986Z"
    }
   }
  },
  {
   "cell_type": "code",
   "execution_count": 57,
   "outputs": [
    {
     "name": "stdout",
     "output_type": "stream",
     "text": [
      "1.0746387233165982\n"
     ]
    }
   ],
   "source": [
    "print(np.mean(mse_list))"
   ],
   "metadata": {
    "collapsed": false,
    "ExecuteTime": {
     "end_time": "2023-08-24T03:35:57.959839Z",
     "start_time": "2023-08-24T03:35:57.937906Z"
    }
   }
  },
  {
   "cell_type": "markdown",
   "source": [
    "# テーブルデータの時は、K-Fold CVやRepeated-K-Foldを使うのが一般的"
   ],
   "metadata": {
    "collapsed": false
   }
  },
  {
   "cell_type": "markdown",
   "source": [
    "# PIPELINE"
   ],
   "metadata": {
    "collapsed": false
   }
  },
  {
   "cell_type": "code",
   "execution_count": 61,
   "outputs": [],
   "source": [
    "from sklearn.pipeline import Pipeline\n",
    "pipeline = Pipeline(steps=[('scaler', StandardScaler()), ('model', LinearRegression())])"
   ],
   "metadata": {
    "collapsed": false,
    "ExecuteTime": {
     "end_time": "2023-08-24T04:04:06.416762Z",
     "start_time": "2023-08-24T04:04:06.415568Z"
    }
   }
  },
  {
   "cell_type": "code",
   "execution_count": 63,
   "outputs": [],
   "source": [
    "cv = KFold(n_splits=5, shuffle=True, random_state=0)\n",
    "scores = cross_val_score(pipeline, X, y, scoring='neg_mean_squared_error', cv=cv)"
   ],
   "metadata": {
    "collapsed": false,
    "ExecuteTime": {
     "end_time": "2023-08-24T04:05:01.971858Z",
     "start_time": "2023-08-24T04:05:01.946719Z"
    }
   }
  },
  {
   "cell_type": "markdown",
   "source": [
    "# 回帰の評価指標　MSE,　RMSE, MAEを試す"
   ],
   "metadata": {
    "collapsed": false
   }
  },
  {
   "cell_type": "code",
   "execution_count": 69,
   "outputs": [],
   "source": [
    "#データの準備\n",
    "X = df['total_bill'].values.reshape(-1, 1)\n",
    "y = df['tip'].values\n",
    "\n",
    "#hold-out\n",
    "X_train, X_test, y_train, y_test = train_test_split(X, y, test_size=0.3, random_state=0)\n",
    "\n",
    "#train\n",
    "model = LinearRegression()\n",
    "model.fit(X_train,y_train)\n",
    "\n",
    "#predict\n",
    "y_pred = model.predict(X_test)"
   ],
   "metadata": {
    "collapsed": false,
    "ExecuteTime": {
     "end_time": "2023-08-24T05:18:31.084353Z",
     "start_time": "2023-08-24T05:18:31.070644Z"
    }
   }
  },
  {
   "cell_type": "code",
   "execution_count": 71,
   "outputs": [
    {
     "data": {
      "text/plain": "0.8711845537539947"
     },
     "execution_count": 71,
     "metadata": {},
     "output_type": "execute_result"
    }
   ],
   "source": [
    "#MSE\n",
    "from sklearn.metrics import mean_squared_error as MSE\n",
    "MSE(y_test, y_pred)"
   ],
   "metadata": {
    "collapsed": false,
    "ExecuteTime": {
     "end_time": "2023-08-24T05:20:06.336858Z",
     "start_time": "2023-08-24T05:20:06.334554Z"
    }
   }
  },
  {
   "cell_type": "code",
   "execution_count": 73,
   "outputs": [
    {
     "data": {
      "text/plain": "0.933372676777071"
     },
     "execution_count": 73,
     "metadata": {},
     "output_type": "execute_result"
    }
   ],
   "source": [
    "#RMSE\n",
    "MSE(y_test, y_pred, squared=False)"
   ],
   "metadata": {
    "collapsed": false,
    "ExecuteTime": {
     "end_time": "2023-08-24T05:21:06.689990Z",
     "start_time": "2023-08-24T05:21:06.687016Z"
    }
   }
  },
  {
   "cell_type": "code",
   "execution_count": 74,
   "outputs": [
    {
     "data": {
      "text/plain": "0.6903119067790222"
     },
     "execution_count": 74,
     "metadata": {},
     "output_type": "execute_result"
    }
   ],
   "source": [
    "from sklearn.metrics import mean_absolute_error as MAE\n",
    "MAE(y_test, y_pred)"
   ],
   "metadata": {
    "collapsed": false,
    "ExecuteTime": {
     "end_time": "2023-08-24T05:21:59.362382Z",
     "start_time": "2023-08-24T05:21:59.354521Z"
    }
   }
  },
  {
   "cell_type": "markdown",
   "source": [
    " # scikit-learn で決定係数を求める"
   ],
   "metadata": {
    "collapsed": false
   }
  },
  {
   "cell_type": "code",
   "execution_count": 75,
   "outputs": [
    {
     "data": {
      "text/plain": "0.49515102188632776"
     },
     "execution_count": 75,
     "metadata": {},
     "output_type": "execute_result"
    }
   ],
   "source": [
    "from sklearn.metrics import r2_score\n",
    "r2_score(y_test, y_pred)"
   ],
   "metadata": {
    "collapsed": false,
    "ExecuteTime": {
     "end_time": "2023-08-24T05:33:46.140393Z",
     "start_time": "2023-08-24T05:33:46.109499Z"
    }
   }
  },
  {
   "cell_type": "code",
   "execution_count": 78,
   "outputs": [
    {
     "data": {
      "text/plain": "            total_bill       tip      size\ntotal_bill    1.000000  0.675734  0.598315\ntip           0.675734  1.000000  0.489299\nsize          0.598315  0.489299  1.000000",
      "text/html": "<div>\n<style scoped>\n    .dataframe tbody tr th:only-of-type {\n        vertical-align: middle;\n    }\n\n    .dataframe tbody tr th {\n        vertical-align: top;\n    }\n\n    .dataframe thead th {\n        text-align: right;\n    }\n</style>\n<table border=\"1\" class=\"dataframe\">\n  <thead>\n    <tr style=\"text-align: right;\">\n      <th></th>\n      <th>total_bill</th>\n      <th>tip</th>\n      <th>size</th>\n    </tr>\n  </thead>\n  <tbody>\n    <tr>\n      <th>total_bill</th>\n      <td>1.000000</td>\n      <td>0.675734</td>\n      <td>0.598315</td>\n    </tr>\n    <tr>\n      <th>tip</th>\n      <td>0.675734</td>\n      <td>1.000000</td>\n      <td>0.489299</td>\n    </tr>\n    <tr>\n      <th>size</th>\n      <td>0.598315</td>\n      <td>0.489299</td>\n      <td>1.000000</td>\n    </tr>\n  </tbody>\n</table>\n</div>"
     },
     "execution_count": 78,
     "metadata": {},
     "output_type": "execute_result"
    }
   ],
   "source": [
    "number_columns = df.select_dtypes(include=np.number)\n",
    "number_columns.corr()"
   ],
   "metadata": {
    "collapsed": false,
    "ExecuteTime": {
     "end_time": "2023-08-24T05:41:19.026144Z",
     "start_time": "2023-08-24T05:41:19.012846Z"
    }
   }
  },
  {
   "cell_type": "markdown",
   "source": [],
   "metadata": {
    "collapsed": false
   }
  }
 ],
 "metadata": {
  "kernelspec": {
   "display_name": "Python 3",
   "language": "python",
   "name": "python3"
  },
  "language_info": {
   "codemirror_mode": {
    "name": "ipython",
    "version": 2
   },
   "file_extension": ".py",
   "mimetype": "text/x-python",
   "name": "python",
   "nbconvert_exporter": "python",
   "pygments_lexer": "ipython2",
   "version": "2.7.6"
  }
 },
 "nbformat": 4,
 "nbformat_minor": 0
}
