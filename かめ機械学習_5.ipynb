{
 "cells": [
  {
   "cell_type": "code",
   "execution_count": 23,
   "id": "52d61f4e-f2b0-4c46-af28-1842cee05b24",
   "metadata": {},
   "outputs": [],
   "source": [
    "import seaborn as sns \n",
    "\n",
    "#データを読み込み\n",
    "df = sns.load_dataset('iris')\n",
    "y_col = 'species'\n",
    "X = df.drop(columns=[y_col])\n",
    "y = df[y_col]\n",
    "\n",
    "#データ分割\n",
    "from sklearn.model_selection import train_test_split\n",
    "X_train, X_test, y_train, y_test = train_test_split(X, y, test_size=0.3, random_state=0)\n",
    "\n",
    "#モデル学習\n",
    "from sklearn. linear_model import LogisticRegression\n",
    "model = LogisticRegression(penalty='none')\n",
    "model.fit(X_train, y_train)\n",
    "y_pred = model.predict(X_test)\n",
    "\n"
   ]
  },
  {
   "cell_type": "code",
   "execution_count": 24,
   "id": "e2b484d8-06c2-4dda-be84-34fcdb03da14",
   "metadata": {},
   "outputs": [],
   "source": [
    "#混同行列の作成\n",
    "from sklearn.metrics import confusion_matrix\n",
    "cm = confusion_matrix(y_test, y_pred)\n"
   ]
  },
  {
   "cell_type": "code",
   "execution_count": 25,
   "id": "6eb701ee-e7f4-4877-8999-4802c01fc64c",
   "metadata": {},
   "outputs": [
    {
     "data": {
      "text/plain": [
       "<sklearn.metrics._plot.confusion_matrix.ConfusionMatrixDisplay at 0x406bf43490>"
      ]
     },
     "execution_count": 25,
     "metadata": {},
     "output_type": "execute_result"
    },
    {
     "data": {
      "image/png": "[encoded data removed]",
      "text/plain": [
       "<Figure size 432x288 with 2 Axes>"
      ]
     },
     "metadata": {
      "needs_background": "light"
     },
     "output_type": "display_data"
    }
   ],
   "source": [
    "# 混同行列の可視化\n",
    "from sklearn.metrics import ConfusionMatrixDisplay\n",
    "disp = ConfusionMatrixDisplay(confusion_matrix=cm, display_labels=model.classes_)\n",
    "disp.plot()"
   ]
  },
  {
   "cell_type": "markdown",
   "id": "4a84d19e-e99a-41c6-9a81-4766dac67add",
   "metadata": {},
   "source": [
    "# Accuracyを計算する"
   ]
  },
  {
   "cell_type": "code",
   "execution_count": 27,
   "id": "c1ee72ff-1d9b-4a6a-9663-5925a6efee88",
   "metadata": {},
   "outputs": [
    {
     "data": {
      "text/plain": [
       "0.5"
      ]
     },
     "execution_count": 27,
     "metadata": {},
     "output_type": "execute_result"
    }
   ],
   "source": [
    "#サンプルデータ\n",
    "y_true = [1, 1, 0, 1, 0, 0, 1, 1]\n",
    "y_pred = [1, 1, 1, 0, 0, 1, 0, 1]\n",
    "\n",
    "from sklearn.metrics import accuracy_score\n",
    "accuracy_score(y_true, y_pred)"
   ]
  },
  {
   "cell_type": "markdown",
   "id": "4ae7a031-89fa-432b-98aa-f9ec4d33bb61",
   "metadata": {},
   "source": [
    "# Precision"
   ]
  },
  {
   "cell_type": "code",
   "execution_count": 28,
   "id": "1c0c1a16-9740-442d-81be-0b3de6892969",
   "metadata": {},
   "outputs": [
    {
     "data": {
      "text/plain": [
       "0.6"
      ]
     },
     "execution_count": 28,
     "metadata": {},
     "output_type": "execute_result"
    }
   ],
   "source": [
    "from sklearn.metrics import precision_score\n",
    "precision_score(y_true, y_pred)"
   ]
  },
  {
   "cell_type": "markdown",
   "id": "6e02a840-0076-4ae9-923b-8b7613cd0da4",
   "metadata": {},
   "source": [
    "# Recall 再現率　"
   ]
  },
  {
   "cell_type": "code",
   "execution_count": 29,
   "id": "78822001-f9c1-458c-bd94-57623015bc47",
   "metadata": {},
   "outputs": [
    {
     "data": {
      "text/plain": [
       "0.6"
      ]
     },
     "execution_count": 29,
     "metadata": {},
     "output_type": "execute_result"
    }
   ],
   "source": [
    "from sklearn.metrics import recall_score\n",
    "recall_score(y_true, y_pred)"
   ]
  },
  {
   "cell_type": "markdown",
   "id": "fcef9b49-337c-44d9-901c-510141ac6064",
   "metadata": {},
   "source": [
    "# Specificity 特異度"
   ]
  },
  {
   "cell_type": "code",
   "execution_count": 31,
   "id": "aad251d7-4229-4ded-8eed-ff76d79c4d22",
   "metadata": {},
   "outputs": [
    {
     "data": {
      "text/plain": [
       "array([False, False,  True, False,  True,  True, False, False])"
      ]
     },
     "execution_count": 31,
     "metadata": {},
     "output_type": "execute_result"
    }
   ],
   "source": [
    "import numpy as np\n",
    "np.array(y_true)!=1"
   ]
  },
  {
   "cell_type": "code",
   "execution_count": 33,
   "id": "946eed61-34d7-4f0d-8c32-c55be910920e",
   "metadata": {},
   "outputs": [
    {
     "data": {
      "text/plain": [
       "0.3333333333333333"
      ]
     },
     "execution_count": 33,
     "metadata": {},
     "output_type": "execute_result"
    }
   ],
   "source": [
    "recall_score(np.array(y_true)!=1, np.array(y_pred)!=1)"
   ]
  },
  {
   "cell_type": "markdown",
   "id": "a8fe2d9e-0d89-4303-9d81-6e99a71f3051",
   "metadata": {},
   "source": [
    "# 他クラス評価におけるPrecision"
   ]
  },
  {
   "cell_type": "code",
   "execution_count": 42,
   "id": "1fa69efb-ef6a-4992-a522-93a24a4b4641",
   "metadata": {},
   "outputs": [
    {
     "name": "stdout",
     "output_type": "stream",
     "text": [
      "[1.         0.94444444 0.90909091]\n",
      "0.9511784511784511\n",
      "0.9555555555555556\n"
     ]
    }
   ],
   "source": [
    "#多クラス分類\n",
    "\n",
    "#データ準備\n",
    "df = sns.load_dataset('iris')\n",
    "y_col = 'species'\n",
    "X = df.loc[:, df.columns!=y_col]\n",
    "y = df[y_col]\n",
    "\n",
    "#データ分割\n",
    "from sklearn.model_selection import train_test_split\n",
    "X_train, X_test, y_train, y_test = train_test_split(X, y, test_size=0.3, random_state=0)\n",
    "\n",
    "#model生成　ロジスティック回帰\n",
    "from sklearn.linear_model import LogisticRegression\n",
    "model = LogisticRegression(penalty='none', multi_class='ovr')\n",
    "model.fit(X_train, y_train)\n",
    "y_pred = model.predict(X_test)\n",
    "y_pred_ovr  = model.predict_proba(X_test)\n",
    "\n",
    "#評価\n",
    "\n",
    "#average=Noneの時\n",
    "print(precision_score(y_test, y_pred, average=None))\n",
    "\n",
    "#average=macro\n",
    "print(precision_score(y_test, y_pred, average='macro'))\n",
    " \n",
    "#average=micro\n",
    "print(precision_score(y_test, y_pred, average='micro'))\n",
    "   "
   ]
  },
  {
   "cell_type": "code",
   "execution_count": 37,
   "id": "e044d6a7-d2de-4c5b-be27-dfb72b63fb20",
   "metadata": {},
   "outputs": [
    {
     "data": {
      "text/plain": [
       "array(['setosa', 'versicolor', 'virginica'], dtype=object)"
      ]
     },
     "execution_count": 37,
     "metadata": {},
     "output_type": "execute_result"
    }
   ],
   "source": [
    "model.classes_"
   ]
  },
  {
   "cell_type": "markdown",
   "id": "5e66b60b-14ba-4210-ab07-75dc2ba643ca",
   "metadata": {},
   "source": [
    "# Precsion-Recall Curveを描画する"
   ]
  },
  {
   "cell_type": "code",
   "execution_count": 46,
   "id": "d807b97c-9e9e-41e2-8060-6aa5426a722e",
   "metadata": {},
   "outputs": [],
   "source": [
    "import pandas as pd\n",
    "df = pd.read_csv('heart_preprocessed.csv')\n",
    "y_col ='target'\n",
    "X = df.drop(columns=[y_col])\n",
    "y = df[y_col]\n",
    "X_train, X_test, y_train, y_test = train_test_split(X, y, test_size=0.3, random_state=0)\n",
    "#モデルの構築\n",
    "model = LogisticRegression(solver='liblinear')\n",
    "model.fit(X_train, y_train)\n",
    "y_pred_proba = model.predict_proba(X_test)"
   ]
  },
  {
   "cell_type": "code",
   "execution_count": 55,
   "id": "3b94c5e2-9147-409e-bcfb-2fed0d402086",
   "metadata": {},
   "outputs": [
    {
     "data": {
      "text/plain": [
       "Text(0.5, 1.0, 'precision recall curbe')"
      ]
     },
     "execution_count": 55,
     "metadata": {},
     "output_type": "execute_result"
    },
    {
     "data": {
      "image/png": "[encoded data removed]",
      "text/plain": [
       "<Figure size 432x288 with 1 Axes>"
      ]
     },
     "metadata": {
      "needs_background": "light"
     },
     "output_type": "display_data"
    }
   ],
   "source": [
    "from sklearn.metrics import precision_recall_curve\n",
    "precision, recall, thresholds = precision_recall_curve(y_test, y_pred_proba[:, 1])\n",
    "import matplotlib.pyplot as plt\n",
    "plt.plot(recall, precision)\n",
    "plt.xlabel('recall')\n",
    "plt.ylabel('precision')\n",
    "plt.title('precision recall curbe')"
   ]
  },
  {
   "cell_type": "markdown",
   "id": "64810ea4-b136-4ce6-b6dc-99495714e051",
   "metadata": {},
   "source": [
    "# F値"
   ]
  },
  {
   "cell_type": "code",
   "execution_count": 62,
   "id": "ecac0f02-f76b-4774-b676-d8bc74fd690e",
   "metadata": {},
   "outputs": [
    {
     "data": {
      "text/plain": [
       "0.4444444444444445"
      ]
     },
     "execution_count": 62,
     "metadata": {},
     "output_type": "execute_result"
    }
   ],
   "source": [
    "from sklearn.metrics import f1_score\n",
    "y_true = [1, 0, 0, 1, 0, 0, 1, 1]\n",
    "y_pred = [1, 1, 1, 0, 0, 1, 0, 1]\n",
    "f1_score(y_true, y_pred)"
   ]
  },
  {
   "cell_type": "code",
   "execution_count": 63,
   "id": "a35e3396-8247-49e5-84e6-0ac9a58a7da8",
   "metadata": {},
   "outputs": [
    {
     "data": {
      "text/plain": [
       "0.4444444444444444"
      ]
     },
     "execution_count": 63,
     "metadata": {},
     "output_type": "execute_result"
    }
   ],
   "source": [
    "# 調和平均ver\n",
    "from scipy.stats import hmean\n",
    "hmean([recall_score(y_true, y_pred), precision_score(y_true, y_pred)])"
   ]
  },
  {
   "cell_type": "code",
   "execution_count": 64,
   "id": "4fbdbbb8-6f1b-4178-808c-092c37b4f51a",
   "metadata": {},
   "outputs": [
    {
     "name": "stdout",
     "output_type": "stream",
     "text": [
      "0.5\n",
      "0.4\n"
     ]
    }
   ],
   "source": [
    "print(recall_score(y_true, y_pred))\n",
    "print(precision_score(y_true, y_pred))"
   ]
  },
  {
   "cell_type": "markdown",
   "id": "441e3974-57d6-44af-a3ae-b4723bb2b620",
   "metadata": {},
   "source": [
    "# Challenge   閾値に対してのPrecision, Recall, F値の推移を描画する     "
   ]
  },
  {
   "cell_type": "code",
   "execution_count": 104,
   "id": "ea7d2085-2dac-44d6-b22b-097b29eb1781",
   "metadata": {},
   "outputs": [
    {
     "data": {
      "text/plain": [
       "<matplotlib.legend.Legend at 0x40731344f0>"
      ]
     },
     "execution_count": 104,
     "metadata": {},
     "output_type": "execute_result"
    },
    {
     "data": {
      "image/png": "[encoded data removed]",
      "text/plain": [
       "<Figure size 432x288 with 1 Axes>"
      ]
     },
     "metadata": {
      "needs_background": "light"
     },
     "output_type": "display_data"
    }
   ],
   "source": [
    "import pandas as pd\n",
    "df = pd.read_csv('heart_preprocessed.csv')\n",
    "y_col = 'target'\n",
    "X = df.drop(columns=[y_col])\n",
    "y = df[y_col]\n",
    "\n",
    "#データ分割\n",
    "from sklearn.model_selection import train_test_split\n",
    "X_train, X_test, y_train, y_test = train_test_split(X, y, test_size=0.3, random_state=0)\n",
    "\n",
    "#モデル学習\n",
    "from sklearn.linear_model import LogisticRegression\n",
    "model = LogisticRegression(solver='liblinear')\n",
    "model.fit(X_train, y_train)\n",
    "y_predict_proba = model.predict_proba(X_test)\n",
    "\n",
    "#precision, recall, thresholds, F値\n",
    "from sklearn.metrics import precision_recall_curve\n",
    "precision, recall, thresholds = precision_recall_curve(y_test, y_predict_proba[:, 1])\n",
    "#thresholdsは最後の１が抜けているので足す\n",
    "thresholds = np.append(thresholds,1)\n",
    "#F値を求める\n",
    "f1_scores = [hmean([pre, reca]) for pre, reca in zip(precision, recall) ]\n",
    "\n",
    "plt.plot(thresholds, precision)\n",
    "plt.plot(thresholds, recall)\n",
    "plt.plot(thresholds, f1_scores)\n",
    "plt.xlabel('thresholds')\n",
    "plt.title('precision, recall, F1_score')\n",
    "plt.legend(['precision', 'recall', 'f1_score'])\n"
   ]
  },
  {
   "cell_type": "code",
   "execution_count": 110,
   "id": "b4d41fe2-09cc-419a-94a3-fd5da52bb718",
   "metadata": {},
   "outputs": [
    {
     "data": {
      "text/plain": [
       "0.44164670248434684"
      ]
     },
     "execution_count": 110,
     "metadata": {},
     "output_type": "execute_result"
    }
   ],
   "source": [
    "#F1スコアが最大にある閾値を探す\n",
    "thresholds[np.argmax(f1_scores)]"
   ]
  },
  {
   "cell_type": "markdown",
   "id": "8a294da2-5a12-4900-bcb1-88db478c7ef8",
   "metadata": {},
   "source": [
    "# ROCを描画する"
   ]
  },
  {
   "cell_type": "code",
   "execution_count": 117,
   "id": "f83b5016-4d4d-4f8a-9fd6-c046c3fa2c77",
   "metadata": {},
   "outputs": [
    {
     "data": {
      "text/plain": [
       "Text(0.5, 1.0, 'ROC_curve')"
      ]
     },
     "execution_count": 117,
     "metadata": {},
     "output_type": "execute_result"
    },
    {
     "data": {
      "image/png": "[encoded data removed]",
      "text/plain": [
       "<Figure size 432x288 with 1 Axes>"
      ]
     },
     "metadata": {
      "needs_background": "light"
     },
     "output_type": "display_data"
    }
   ],
   "source": [
    "from sklearn.metrics import roc_curve\n",
    "fpr, tpr, thresholds = roc_curve(y_test, y_pred_proba[:, 1])\n",
    "\n",
    "#描画\n",
    "plt.plot(fpr, tpr)\n",
    "plt.xlabel('1-specificity(FPR)')\n",
    "plt.ylabel('sensitivity(TPR)')\n",
    "plt.title('ROC_curve')"
   ]
  },
  {
   "cell_type": "markdown",
   "id": "68e70698-3a7d-49aa-be37-66effdfb3500",
   "metadata": {},
   "source": []
  },
  {
   "cell_type": "markdown",
   "id": "e8a5ac25-2b17-488b-a990-72c785cd42df",
   "metadata": {},
   "source": [
    "# ROCカーブをAUCで数値化"
   ]
  },
  {
   "cell_type": "code",
   "execution_count": 119,
   "id": "1b2b3664-6b37-4775-9d49-11ba12bbd3cf",
   "metadata": {},
   "outputs": [
    {
     "data": {
      "text/plain": [
       "0.919542785981142"
      ]
     },
     "execution_count": 119,
     "metadata": {},
     "output_type": "execute_result"
    }
   ],
   "source": [
    "from sklearn.metrics import auc\n",
    "auc(fpr, tpr)"
   ]
  },
  {
   "cell_type": "markdown",
   "id": "c8da098b-74cf-4997-a231-7f560320fd22",
   "metadata": {},
   "source": []
  },
  {
   "cell_type": "markdown",
   "id": "006e045b-af1c-4584-a505-2a179a2beb7b",
   "metadata": {},
   "source": [
    "# 　他クラス分類のROCを描画する"
   ]
  },
  {
   "cell_type": "code",
   "execution_count": 133,
   "id": "21825689-b938-47b6-922a-87f3b254134c",
   "metadata": {},
   "outputs": [],
   "source": [
    "# データの準備\n",
    "df = sns.load_dataset('iris')\n",
    "y_col = 'species'\n",
    "X = df.drop(columns=[y_col])\n",
    "y = df[y_col]\n",
    "\n",
    "#hold-out \n",
    "X_train, X_test, y_train, y_test = train_test_split(X, y, test_size=0.3, random_state=0)\n",
    "\n",
    "#model構築\n",
    "model = LogisticRegression()\n",
    "model.fit(X_train, y_train)\n",
    "\n",
    "#予測\n",
    "y_pred_proba = model.predict_proba(X_test)"
   ]
  },
  {
   "cell_type": "code",
   "execution_count": 134,
   "id": "5b8c88be-ccf1-4c56-b1e8-908286999001",
   "metadata": {},
   "outputs": [],
   "source": [
    "# macro平均\n",
    "\n",
    "#まず、y_testをワンホット表現に変換する\n",
    "from sklearn.preprocessing import label_binarize\n",
    "y_test_one_hot = label_binarize(y_test, classes=model.classes_)\n",
    "\n",
    "\n",
    "#\n",
    "n_classes = 3\n",
    "fpr = {}\n",
    "tpr = {}\n",
    "roc_auc = {}\n",
    "for i in range(n_classes):\n",
    "    fpr[i], tpr[i], _ = roc_curve(y_test_one_hot[:, i], y_pred_proba[:, i])\n",
    "    roc_auc[i] = auc(fpr[i], tpr[i])"
   ]
  },
  {
   "cell_type": "code",
   "execution_count": 135,
   "id": "a70a31c0-84f3-42f7-bb6a-65f38c1f81b6",
   "metadata": {},
   "outputs": [
    {
     "data": {
      "image/png": "[encoded data removed]",
      "text/plain": [
       "<Figure size 432x288 with 1 Axes>"
      ]
     },
     "metadata": {
      "needs_background": "light"
     },
     "output_type": "display_data"
    }
   ],
   "source": [
    "#それぞれのクラスのROC\n",
    "for i in range(n_classes):\n",
    "    plt.plot(fpr[i], tpr[i], label=f'class:{i}')\n",
    "    plt.legend()"
   ]
  },
  {
   "cell_type": "code",
   "execution_count": 143,
   "id": "5826e7ef-5028-4b7d-b35a-1737ac8c46f4",
   "metadata": {},
   "outputs": [
    {
     "data": {
      "text/plain": [
       "<matplotlib.legend.Legend at 0x40759c6280>"
      ]
     },
     "execution_count": 143,
     "metadata": {},
     "output_type": "execute_result"
    },
    {
     "data": {
      "image/png": "[encoded data removed]",
      "text/plain": [
       "<Figure size 432x288 with 1 Axes>"
      ]
     },
     "metadata": {
      "needs_background": "light"
     },
     "output_type": "display_data"
    }
   ],
   "source": [
    "#必要なｘの値のリストを作成\n",
    "all_fpr = np.unique(np.concatenate([fpr[i] for i in range(n_classes)]))\n",
    "# 線形補完 np.interp()\n",
    "mean_tpr = np.zeros_like(all_fpr)\n",
    "for i in range(n_classes):\n",
    "    mean_tpr += np.interp(all_fpr, fpr[i], tpr[i])\n",
    "mean_tpr = mean_tpr / n_classes\n",
    "\n",
    "fpr['macro'] = all_fpr\n",
    "tpr['macro'] = mean_tpr\n",
    "roc_auc['macro'] = auc(fpr['macro'], tpr['macro'])\n",
    "\n",
    "#それぞれのクラスとmacroの平均のROC\n",
    "for i in range(n_classes):\n",
    "    plt.plot(fpr[i], tpr[i], label=f'class:{i}')\n",
    "plt.plot(fpr['macro'], tpr['macro'], label='macro')\n",
    "plt.legend()"
   ]
  },
  {
   "cell_type": "markdown",
   "id": "ceb8a4e2-c19f-4bc8-be47-1c73d60d100d",
   "metadata": {},
   "source": [
    "# micro平均  "
   ]
  },
  {
   "cell_type": "code",
   "execution_count": 145,
   "id": "37ce1609-9d4e-4d7d-88de-c991982e60a1",
   "metadata": {},
   "outputs": [
    {
     "data": {
      "text/plain": [
       "<matplotlib.legend.Legend at 0x40759ff760>"
      ]
     },
     "execution_count": 145,
     "metadata": {},
     "output_type": "execute_result"
    },
    {
     "data": {
      "image/png": "[encoded data removed]",
      "text/plain": [
       "<Figure size 432x288 with 1 Axes>"
      ]
     },
     "metadata": {
      "needs_background": "light"
     },
     "output_type": "display_data"
    }
   ],
   "source": [
    "fpr['micro'], tpr['micro'], _ = roc_curve(y_test_one_hot.ravel(),y_pred_proba.ravel())\n",
    "roc_auc['micro'] = auc(fpr['micro'], tpr['micro'])\n",
    "#それぞれのクラスとmacroの平均のROC\n",
    "for i in range(n_classes):\n",
    "    plt.plot(fpr[i], tpr[i], label=f'class:{i}')\n",
    "plt.plot(fpr['micro'], tpr['micro'], label='micro')\n",
    "plt.plot(fpr['macro'], tpr['macro'], label='macro')\n",
    "plt.legend()"
   ]
  },
  {
   "cell_type": "code",
   "execution_count": null,
   "id": "5ca37b51-5243-4e79-922a-42b262672ab6",
   "metadata": {},
   "outputs": [],
   "source": []
  }
 ],
 "metadata": {
  "kernelspec": {
   "display_name": "Python 3 (ipykernel)",
   "language": "python",
   "name": "python3"
  },
  "language_info": {
   "codemirror_mode": {
    "name": "ipython",
    "version": 3
   },
   "file_extension": ".py",
   "mimetype": "text/x-python",
   "name": "python",
   "nbconvert_exporter": "python",
   "pygments_lexer": "ipython3",
   "version": "3.9.12"
  }
 },
 "nbformat": 4,
 "nbformat_minor": 5
}
