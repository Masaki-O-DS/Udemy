{
 "cells": [
  {
   "cell_type": "markdown",
   "id": "4724751f-0823-4c81-ab92-6fc9fef5d913",
   "metadata": {},
   "source": [
    "# SVM サポートベクターマシーン"
   ]
  },
  {
   "cell_type": "code",
   "execution_count": 14,
   "id": "2a4f248e-96bc-48e2-86fd-e6872aae02d1",
   "metadata": {},
   "outputs": [
    {
     "data": {
      "text/plain": [
       "0.9111111111111111"
      ]
     },
     "execution_count": 14,
     "metadata": {},
     "output_type": "execute_result"
    }
   ],
   "source": [
    "import seaborn as sns\n",
    "from sklearn.model_selection import train_test_split\n",
    "df = sns.load_dataset('iris')\n",
    "y_col = 'species'\n",
    "X = df.drop(columns=[y_col])\n",
    "y = df[y_col]\n",
    "X_train, X_test, y_train, y_test = train_test_split(X, y, test_size=0.3, random_state=0)\n",
    "#標準化\n",
    "from sklearn.preprocessing import StandardScaler\n",
    "scaler = StandardScaler()\n",
    "X_train =  scaler.fit_transform(X_train)\n",
    "X_test = scaler.transform(X_test)\n",
    "\n",
    "#PCA\n",
    "from sklearn.decomposition import PCA\n",
    "pca = PCA(n_components=2)\n",
    "X_train_pc = pca.fit_transform(X_train)\n",
    "X_test_pc = pca.transform(X_test)\n",
    "\n",
    "#SVM\n",
    "from sklearn.svm import SVC\n",
    "model = SVC(kernel='linear')\n",
    "model.fit(X_train_pc, y_train)\n",
    "\n",
    "#予測\n",
    "y_pred = model.predict(X_test_pc)\n",
    "\n",
    "#評価　accuracy\n",
    "from sklearn.metrics import accuracy_score\n",
    "accuracy_score(y_test, y_pred)"
   ]
  },
  {
   "cell_type": "code",
   "execution_count": 16,
   "id": "9074356d-413a-414b-b5a1-8dc2a9e88dfe",
   "metadata": {},
   "outputs": [
    {
     "data": {
      "text/plain": [
       "array([[-2.01808086, -2.16076222],\n",
       "       [-1.83691058,  0.22264198],\n",
       "       [ 0.68991796,  0.71639709],\n",
       "       [ 1.01841242,  0.75406273],\n",
       "       [ 1.14259734,  0.50582016],\n",
       "       [-0.59799672, -1.47307272],\n",
       "       [ 1.00108719, -1.69126085],\n",
       "       [ 0.21435381, -1.74582022],\n",
       "       [ 0.76807504,  0.17465618],\n",
       "       [ 0.58546256, -0.11934379],\n",
       "       [-0.65005847, -1.76724016],\n",
       "       [ 0.78292811,  0.42709078],\n",
       "       [ 1.05347893, -1.00878745],\n",
       "       [ 1.24654811,  0.22456375],\n",
       "       [ 0.8060938 , -0.04480644],\n",
       "       [ 0.67115053,  0.36047773],\n",
       "       [ 0.83577732, -1.44733591],\n",
       "       [ 1.36078095,  0.15396725],\n",
       "       [ 1.18175475, -0.56575389],\n",
       "       [ 0.9792362 , -0.36356179],\n",
       "       [ 0.21142607, -1.52270906],\n",
       "       [ 1.01399725, -0.74821922],\n",
       "       [ 0.86207563, -0.06985412],\n",
       "       [ 1.28474342,  0.5928925 ],\n",
       "       [ 1.326855  ,  0.92380604],\n",
       "       [ 1.08677516, -1.21143932],\n",
       "       [ 0.82552169, -0.03239705],\n",
       "       [ 1.52725209,  0.96532955],\n",
       "       [ 1.01399725, -0.74821922],\n",
       "       [ 1.31720646, -0.13584069]])"
      ]
     },
     "execution_count": 16,
     "metadata": {},
     "output_type": "execute_result"
    }
   ],
   "source": [
    "#サポートベクトル\n",
    "model.support_vectors_"
   ]
  },
  {
   "cell_type": "markdown",
   "id": "f7cabd53-3514-40af-a4e2-05ad96d51c97",
   "metadata": {},
   "source": [
    "# 決定境界とサポートベクトルの可視化"
   ]
  },
  {
   "cell_type": "code",
   "execution_count": 36,
   "id": "48036419-bc9c-41d0-b869-cde0bf74fa3b",
   "metadata": {},
   "outputs": [
    {
     "data": {
      "text/plain": [
       "<matplotlib.collections.PathCollection at 0x406fca7130>"
      ]
     },
     "execution_count": 36,
     "metadata": {},
     "output_type": "execute_result"
    },
    {
     "data": {
      "image/png": "[encoded data removed]",
      "text/plain": [
       "<Figure size 432x288 with 1 Axes>"
      ]
     },
     "metadata": {
      "needs_background": "light"
     },
     "output_type": "display_data"
    }
   ],
   "source": [
    "from sklearn.inspection import DecisionBoundaryDisplay\n",
    "import matplotlib.pyplot as plt\n",
    "import numpy as np\n",
    "# 決定境界描画\n",
    "DecisionBoundaryDisplay.from_estimator(model, \n",
    "                                       X_train_pc,\n",
    "                                      plot_method='contour',\n",
    "                                      cmap=plt.cm.Paired,\n",
    "                                      xlabel='first pricipal component',\n",
    "                                      ylabel = 'second pricipal component')\n",
    "\n",
    "#(PCA後の)学習データ描画\n",
    "for class_, color in zip(model.classes_, 'bry'):\n",
    "    idx = np.where(y_train == class_)\n",
    "    plt.scatter(X_train_pc[idx,0], \n",
    "                X_train_pc[idx, 1], \n",
    "                c=color,\n",
    "               label=class_,\n",
    "               edgecolor='black',\n",
    "               s=20)\n",
    "plt.legend()\n",
    "\n",
    "#サポートベクトル描画\n",
    "plt.scatter(model.support_vectors_[:, 0],\n",
    "            model.support_vectors_[:, 1],\n",
    "            s=100,\n",
    "            facecolor='none',\n",
    "            linewidth=1,\n",
    "            edgecolor='black')"
   ]
  },
  {
   "cell_type": "code",
   "execution_count": null,
   "id": "2d624062-80ad-4277-82e4-d17d6c023bc7",
   "metadata": {},
   "outputs": [],
   "source": []
  }
 ],
 "metadata": {
  "kernelspec": {
   "display_name": "Python 3 (ipykernel)",
   "language": "python",
   "name": "python3"
  },
  "language_info": {
   "codemirror_mode": {
    "name": "ipython",
    "version": 3
   },
   "file_extension": ".py",
   "mimetype": "text/x-python",
   "name": "python",
   "nbconvert_exporter": "python",
   "pygments_lexer": "ipython3",
   "version": "3.9.12"
  }
 },
 "nbformat": 4,
 "nbformat_minor": 5
}
